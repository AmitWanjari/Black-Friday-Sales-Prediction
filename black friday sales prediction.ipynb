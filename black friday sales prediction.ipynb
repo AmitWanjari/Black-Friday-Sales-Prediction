{
 "cells": [
  {
   "cell_type": "markdown",
   "id": "0766a59d",
   "metadata": {},
   "source": [
    "Sales Data Analysis:\n",
    "\n",
    "ABC Private Limited, a retail company, wants to gain insight into its customers' purchasing habits, particularly their spending on different product categories. To do this, they have provided a summary of the purchase history of a number of high-volume products from the previous month. This data includes information on the customer demographics, such as age, gender, marital status, city type, and length of stay in their current city, as well as details on the products themselves, including product ID and product category. "
   ]
  },
  {
   "cell_type": "markdown",
   "id": "14670348",
   "metadata": {},
   "source": [
    "User_ID : User ID\n",
    "\n",
    "Product_ID : Product ID\n",
    "\n",
    "Gender : Sex of User\n",
    "\n",
    "Age : Age in bins\n",
    "\n",
    "Occupation : Occupation\n",
    "\n",
    "City_Category : Category of the City (A,B,C)\n",
    "\n",
    "Stay_In_Current_City_Years: Number of years stay in current city\n",
    "\n",
    "Marital_Status: Marital Status\n",
    "\n",
    "Product_Category_1: Product Category\n",
    "\n",
    "Product_Category_2 : Product may belongs to other category also\n",
    "\n",
    "Product_Category_3: Product may belongs to other category als\n",
    "\n",
    "Purchase : Purchase Amount (Target Variable)"
   ]
  },
  {
   "cell_type": "markdown",
   "id": "0ce68286",
   "metadata": {},
   "source": [
    "### Que. 1)  DATA ANALYSIS FOR THE ABOVE PROBLEM "
   ]
  },
  {
   "cell_type": "markdown",
   "id": "2bba8041",
   "metadata": {},
   "source": [
    "### IMPORT LIBRARIES AND DATASET"
   ]
  },
  {
   "cell_type": "code",
   "execution_count": 1,
   "id": "ca247f3c",
   "metadata": {},
   "outputs": [],
   "source": [
    "import pandas as pd\n",
    "import numpy as np\n",
    "import matplotlib.pyplot as plt\n",
    "import seaborn as sns\n",
    "\n",
    "import warnings\n",
    "warnings.filterwarnings('ignore')"
   ]
  },
  {
   "cell_type": "code",
   "execution_count": 2,
   "id": "a620c9be",
   "metadata": {},
   "outputs": [],
   "source": [
    "train=pd.read_csv(r\"C:\\Users\\Amit\\Desktop\\project\\train.csv\")\n",
    "test=pd.read_csv(r\"C:\\Users\\Amit\\Desktop\\project\\test.csv\")"
   ]
  },
  {
   "cell_type": "markdown",
   "id": "19b18331",
   "metadata": {},
   "source": [
    "### descriptive  statistics of the dataset"
   ]
  },
  {
   "cell_type": "code",
   "execution_count": 3,
   "id": "1e863482",
   "metadata": {
    "scrolled": true
   },
   "outputs": [
    {
     "data": {
      "text/html": [
       "<div>\n",
       "<style scoped>\n",
       "    .dataframe tbody tr th:only-of-type {\n",
       "        vertical-align: middle;\n",
       "    }\n",
       "\n",
       "    .dataframe tbody tr th {\n",
       "        vertical-align: top;\n",
       "    }\n",
       "\n",
       "    .dataframe thead th {\n",
       "        text-align: right;\n",
       "    }\n",
       "</style>\n",
       "<table border=\"1\" class=\"dataframe\">\n",
       "  <thead>\n",
       "    <tr style=\"text-align: right;\">\n",
       "      <th></th>\n",
       "      <th>User_ID</th>\n",
       "      <th>Product_ID</th>\n",
       "      <th>Gender</th>\n",
       "      <th>Age</th>\n",
       "      <th>Occupation</th>\n",
       "      <th>City_Category</th>\n",
       "      <th>Stay_In_Current_City_Years</th>\n",
       "      <th>Marital_Status</th>\n",
       "      <th>Product_Category_1</th>\n",
       "      <th>Product_Category_2</th>\n",
       "      <th>Product_Category_3</th>\n",
       "      <th>Purchase</th>\n",
       "    </tr>\n",
       "  </thead>\n",
       "  <tbody>\n",
       "    <tr>\n",
       "      <th>0</th>\n",
       "      <td>1000001</td>\n",
       "      <td>P00069042</td>\n",
       "      <td>F</td>\n",
       "      <td>0-17</td>\n",
       "      <td>10</td>\n",
       "      <td>A</td>\n",
       "      <td>2</td>\n",
       "      <td>0</td>\n",
       "      <td>3</td>\n",
       "      <td>NaN</td>\n",
       "      <td>NaN</td>\n",
       "      <td>8370</td>\n",
       "    </tr>\n",
       "    <tr>\n",
       "      <th>1</th>\n",
       "      <td>1000001</td>\n",
       "      <td>P00248942</td>\n",
       "      <td>F</td>\n",
       "      <td>0-17</td>\n",
       "      <td>10</td>\n",
       "      <td>A</td>\n",
       "      <td>2</td>\n",
       "      <td>0</td>\n",
       "      <td>1</td>\n",
       "      <td>6.0</td>\n",
       "      <td>14.0</td>\n",
       "      <td>15200</td>\n",
       "    </tr>\n",
       "    <tr>\n",
       "      <th>2</th>\n",
       "      <td>1000001</td>\n",
       "      <td>P00087842</td>\n",
       "      <td>F</td>\n",
       "      <td>0-17</td>\n",
       "      <td>10</td>\n",
       "      <td>A</td>\n",
       "      <td>2</td>\n",
       "      <td>0</td>\n",
       "      <td>12</td>\n",
       "      <td>NaN</td>\n",
       "      <td>NaN</td>\n",
       "      <td>1422</td>\n",
       "    </tr>\n",
       "    <tr>\n",
       "      <th>3</th>\n",
       "      <td>1000001</td>\n",
       "      <td>P00085442</td>\n",
       "      <td>F</td>\n",
       "      <td>0-17</td>\n",
       "      <td>10</td>\n",
       "      <td>A</td>\n",
       "      <td>2</td>\n",
       "      <td>0</td>\n",
       "      <td>12</td>\n",
       "      <td>14.0</td>\n",
       "      <td>NaN</td>\n",
       "      <td>1057</td>\n",
       "    </tr>\n",
       "    <tr>\n",
       "      <th>4</th>\n",
       "      <td>1000002</td>\n",
       "      <td>P00285442</td>\n",
       "      <td>M</td>\n",
       "      <td>55+</td>\n",
       "      <td>16</td>\n",
       "      <td>C</td>\n",
       "      <td>4+</td>\n",
       "      <td>0</td>\n",
       "      <td>8</td>\n",
       "      <td>NaN</td>\n",
       "      <td>NaN</td>\n",
       "      <td>7969</td>\n",
       "    </tr>\n",
       "  </tbody>\n",
       "</table>\n",
       "</div>"
      ],
      "text/plain": [
       "   User_ID Product_ID Gender   Age  Occupation City_Category  \\\n",
       "0  1000001  P00069042      F  0-17          10             A   \n",
       "1  1000001  P00248942      F  0-17          10             A   \n",
       "2  1000001  P00087842      F  0-17          10             A   \n",
       "3  1000001  P00085442      F  0-17          10             A   \n",
       "4  1000002  P00285442      M   55+          16             C   \n",
       "\n",
       "  Stay_In_Current_City_Years  Marital_Status  Product_Category_1  \\\n",
       "0                          2               0                   3   \n",
       "1                          2               0                   1   \n",
       "2                          2               0                  12   \n",
       "3                          2               0                  12   \n",
       "4                         4+               0                   8   \n",
       "\n",
       "   Product_Category_2  Product_Category_3  Purchase  \n",
       "0                 NaN                 NaN      8370  \n",
       "1                 6.0                14.0     15200  \n",
       "2                 NaN                 NaN      1422  \n",
       "3                14.0                 NaN      1057  \n",
       "4                 NaN                 NaN      7969  "
      ]
     },
     "execution_count": 3,
     "metadata": {},
     "output_type": "execute_result"
    }
   ],
   "source": [
    "train.head()"
   ]
  },
  {
   "cell_type": "code",
   "execution_count": 4,
   "id": "3e2cb70f",
   "metadata": {},
   "outputs": [
    {
     "data": {
      "text/html": [
       "<div>\n",
       "<style scoped>\n",
       "    .dataframe tbody tr th:only-of-type {\n",
       "        vertical-align: middle;\n",
       "    }\n",
       "\n",
       "    .dataframe tbody tr th {\n",
       "        vertical-align: top;\n",
       "    }\n",
       "\n",
       "    .dataframe thead th {\n",
       "        text-align: right;\n",
       "    }\n",
       "</style>\n",
       "<table border=\"1\" class=\"dataframe\">\n",
       "  <thead>\n",
       "    <tr style=\"text-align: right;\">\n",
       "      <th></th>\n",
       "      <th>User_ID</th>\n",
       "      <th>Product_ID</th>\n",
       "      <th>Gender</th>\n",
       "      <th>Age</th>\n",
       "      <th>Occupation</th>\n",
       "      <th>City_Category</th>\n",
       "      <th>Stay_In_Current_City_Years</th>\n",
       "      <th>Marital_Status</th>\n",
       "      <th>Product_Category_1</th>\n",
       "      <th>Product_Category_2</th>\n",
       "      <th>Product_Category_3</th>\n",
       "    </tr>\n",
       "  </thead>\n",
       "  <tbody>\n",
       "    <tr>\n",
       "      <th>0</th>\n",
       "      <td>1000004</td>\n",
       "      <td>P00128942</td>\n",
       "      <td>M</td>\n",
       "      <td>46-50</td>\n",
       "      <td>7</td>\n",
       "      <td>B</td>\n",
       "      <td>2</td>\n",
       "      <td>1</td>\n",
       "      <td>1</td>\n",
       "      <td>11.0</td>\n",
       "      <td>NaN</td>\n",
       "    </tr>\n",
       "    <tr>\n",
       "      <th>1</th>\n",
       "      <td>1000009</td>\n",
       "      <td>P00113442</td>\n",
       "      <td>M</td>\n",
       "      <td>26-35</td>\n",
       "      <td>17</td>\n",
       "      <td>C</td>\n",
       "      <td>0</td>\n",
       "      <td>0</td>\n",
       "      <td>3</td>\n",
       "      <td>5.0</td>\n",
       "      <td>NaN</td>\n",
       "    </tr>\n",
       "    <tr>\n",
       "      <th>2</th>\n",
       "      <td>1000010</td>\n",
       "      <td>P00288442</td>\n",
       "      <td>F</td>\n",
       "      <td>36-45</td>\n",
       "      <td>1</td>\n",
       "      <td>B</td>\n",
       "      <td>4+</td>\n",
       "      <td>1</td>\n",
       "      <td>5</td>\n",
       "      <td>14.0</td>\n",
       "      <td>NaN</td>\n",
       "    </tr>\n",
       "    <tr>\n",
       "      <th>3</th>\n",
       "      <td>1000010</td>\n",
       "      <td>P00145342</td>\n",
       "      <td>F</td>\n",
       "      <td>36-45</td>\n",
       "      <td>1</td>\n",
       "      <td>B</td>\n",
       "      <td>4+</td>\n",
       "      <td>1</td>\n",
       "      <td>4</td>\n",
       "      <td>9.0</td>\n",
       "      <td>NaN</td>\n",
       "    </tr>\n",
       "    <tr>\n",
       "      <th>4</th>\n",
       "      <td>1000011</td>\n",
       "      <td>P00053842</td>\n",
       "      <td>F</td>\n",
       "      <td>26-35</td>\n",
       "      <td>1</td>\n",
       "      <td>C</td>\n",
       "      <td>1</td>\n",
       "      <td>0</td>\n",
       "      <td>4</td>\n",
       "      <td>5.0</td>\n",
       "      <td>12.0</td>\n",
       "    </tr>\n",
       "  </tbody>\n",
       "</table>\n",
       "</div>"
      ],
      "text/plain": [
       "   User_ID Product_ID Gender    Age  Occupation City_Category  \\\n",
       "0  1000004  P00128942      M  46-50           7             B   \n",
       "1  1000009  P00113442      M  26-35          17             C   \n",
       "2  1000010  P00288442      F  36-45           1             B   \n",
       "3  1000010  P00145342      F  36-45           1             B   \n",
       "4  1000011  P00053842      F  26-35           1             C   \n",
       "\n",
       "  Stay_In_Current_City_Years  Marital_Status  Product_Category_1  \\\n",
       "0                          2               1                   1   \n",
       "1                          0               0                   3   \n",
       "2                         4+               1                   5   \n",
       "3                         4+               1                   4   \n",
       "4                          1               0                   4   \n",
       "\n",
       "   Product_Category_2  Product_Category_3  \n",
       "0                11.0                 NaN  \n",
       "1                 5.0                 NaN  \n",
       "2                14.0                 NaN  \n",
       "3                 9.0                 NaN  \n",
       "4                 5.0                12.0  "
      ]
     },
     "execution_count": 4,
     "metadata": {},
     "output_type": "execute_result"
    }
   ],
   "source": [
    "test.head()"
   ]
  },
  {
   "cell_type": "code",
   "execution_count": 5,
   "id": "fe2e0508",
   "metadata": {},
   "outputs": [
    {
     "data": {
      "text/plain": [
       "(550068, 12)"
      ]
     },
     "execution_count": 5,
     "metadata": {},
     "output_type": "execute_result"
    }
   ],
   "source": [
    "# Training dataset dimensions\n",
    "train.shape"
   ]
  },
  {
   "cell_type": "code",
   "execution_count": 6,
   "id": "4048c622",
   "metadata": {},
   "outputs": [
    {
     "data": {
      "text/plain": [
       "(233599, 11)"
      ]
     },
     "execution_count": 6,
     "metadata": {},
     "output_type": "execute_result"
    }
   ],
   "source": [
    "# Testing dataset dimensions\n",
    "test.shape"
   ]
  },
  {
   "cell_type": "code",
   "execution_count": 7,
   "id": "5f94d203",
   "metadata": {},
   "outputs": [
    {
     "data": {
      "text/plain": [
       "User_ID                         int64\n",
       "Product_ID                     object\n",
       "Gender                         object\n",
       "Age                            object\n",
       "Occupation                      int64\n",
       "City_Category                  object\n",
       "Stay_In_Current_City_Years     object\n",
       "Marital_Status                  int64\n",
       "Product_Category_1              int64\n",
       "Product_Category_2            float64\n",
       "Product_Category_3            float64\n",
       "Purchase                        int64\n",
       "dtype: object"
      ]
     },
     "execution_count": 7,
     "metadata": {},
     "output_type": "execute_result"
    }
   ],
   "source": [
    "# checking the data types of each variable\n",
    "train.dtypes"
   ]
  },
  {
   "cell_type": "code",
   "execution_count": 8,
   "id": "716324c6",
   "metadata": {
    "scrolled": true
   },
   "outputs": [
    {
     "name": "stdout",
     "output_type": "stream",
     "text": [
      "<class 'pandas.core.frame.DataFrame'>\n",
      "RangeIndex: 550068 entries, 0 to 550067\n",
      "Data columns (total 12 columns):\n",
      " #   Column                      Non-Null Count   Dtype  \n",
      "---  ------                      --------------   -----  \n",
      " 0   User_ID                     550068 non-null  int64  \n",
      " 1   Product_ID                  550068 non-null  object \n",
      " 2   Gender                      550068 non-null  object \n",
      " 3   Age                         550068 non-null  object \n",
      " 4   Occupation                  550068 non-null  int64  \n",
      " 5   City_Category               550068 non-null  object \n",
      " 6   Stay_In_Current_City_Years  550068 non-null  object \n",
      " 7   Marital_Status              550068 non-null  int64  \n",
      " 8   Product_Category_1          550068 non-null  int64  \n",
      " 9   Product_Category_2          376430 non-null  float64\n",
      " 10  Product_Category_3          166821 non-null  float64\n",
      " 11  Purchase                    550068 non-null  int64  \n",
      "dtypes: float64(2), int64(5), object(5)\n",
      "memory usage: 50.4+ MB\n"
     ]
    }
   ],
   "source": [
    "# Features data-type\n",
    "train.info()"
   ]
  },
  {
   "cell_type": "markdown",
   "id": "c4d99df8",
   "metadata": {},
   "source": [
    "Looking at the data, we can conclude that our set possesses 12 different parameters: 7 numerical  and 5 object variables"
   ]
  },
  {
   "cell_type": "code",
   "execution_count": 9,
   "id": "33e374f7",
   "metadata": {},
   "outputs": [
    {
     "data": {
      "text/html": [
       "<div>\n",
       "<style scoped>\n",
       "    .dataframe tbody tr th:only-of-type {\n",
       "        vertical-align: middle;\n",
       "    }\n",
       "\n",
       "    .dataframe tbody tr th {\n",
       "        vertical-align: top;\n",
       "    }\n",
       "\n",
       "    .dataframe thead th {\n",
       "        text-align: right;\n",
       "    }\n",
       "</style>\n",
       "<table border=\"1\" class=\"dataframe\">\n",
       "  <thead>\n",
       "    <tr style=\"text-align: right;\">\n",
       "      <th></th>\n",
       "      <th>User_ID</th>\n",
       "      <th>Occupation</th>\n",
       "      <th>Marital_Status</th>\n",
       "      <th>Product_Category_1</th>\n",
       "      <th>Product_Category_2</th>\n",
       "      <th>Product_Category_3</th>\n",
       "      <th>Purchase</th>\n",
       "    </tr>\n",
       "  </thead>\n",
       "  <tbody>\n",
       "    <tr>\n",
       "      <th>count</th>\n",
       "      <td>5.500680e+05</td>\n",
       "      <td>550068.000000</td>\n",
       "      <td>550068.000000</td>\n",
       "      <td>550068.000000</td>\n",
       "      <td>376430.000000</td>\n",
       "      <td>166821.000000</td>\n",
       "      <td>550068.000000</td>\n",
       "    </tr>\n",
       "    <tr>\n",
       "      <th>mean</th>\n",
       "      <td>1.003029e+06</td>\n",
       "      <td>8.076707</td>\n",
       "      <td>0.409653</td>\n",
       "      <td>5.404270</td>\n",
       "      <td>9.842329</td>\n",
       "      <td>12.668243</td>\n",
       "      <td>9263.968713</td>\n",
       "    </tr>\n",
       "    <tr>\n",
       "      <th>std</th>\n",
       "      <td>1.727592e+03</td>\n",
       "      <td>6.522660</td>\n",
       "      <td>0.491770</td>\n",
       "      <td>3.936211</td>\n",
       "      <td>5.086590</td>\n",
       "      <td>4.125338</td>\n",
       "      <td>5023.065394</td>\n",
       "    </tr>\n",
       "    <tr>\n",
       "      <th>min</th>\n",
       "      <td>1.000001e+06</td>\n",
       "      <td>0.000000</td>\n",
       "      <td>0.000000</td>\n",
       "      <td>1.000000</td>\n",
       "      <td>2.000000</td>\n",
       "      <td>3.000000</td>\n",
       "      <td>12.000000</td>\n",
       "    </tr>\n",
       "    <tr>\n",
       "      <th>25%</th>\n",
       "      <td>1.001516e+06</td>\n",
       "      <td>2.000000</td>\n",
       "      <td>0.000000</td>\n",
       "      <td>1.000000</td>\n",
       "      <td>5.000000</td>\n",
       "      <td>9.000000</td>\n",
       "      <td>5823.000000</td>\n",
       "    </tr>\n",
       "    <tr>\n",
       "      <th>50%</th>\n",
       "      <td>1.003077e+06</td>\n",
       "      <td>7.000000</td>\n",
       "      <td>0.000000</td>\n",
       "      <td>5.000000</td>\n",
       "      <td>9.000000</td>\n",
       "      <td>14.000000</td>\n",
       "      <td>8047.000000</td>\n",
       "    </tr>\n",
       "    <tr>\n",
       "      <th>75%</th>\n",
       "      <td>1.004478e+06</td>\n",
       "      <td>14.000000</td>\n",
       "      <td>1.000000</td>\n",
       "      <td>8.000000</td>\n",
       "      <td>15.000000</td>\n",
       "      <td>16.000000</td>\n",
       "      <td>12054.000000</td>\n",
       "    </tr>\n",
       "    <tr>\n",
       "      <th>max</th>\n",
       "      <td>1.006040e+06</td>\n",
       "      <td>20.000000</td>\n",
       "      <td>1.000000</td>\n",
       "      <td>20.000000</td>\n",
       "      <td>18.000000</td>\n",
       "      <td>18.000000</td>\n",
       "      <td>23961.000000</td>\n",
       "    </tr>\n",
       "  </tbody>\n",
       "</table>\n",
       "</div>"
      ],
      "text/plain": [
       "            User_ID     Occupation  Marital_Status  Product_Category_1  \\\n",
       "count  5.500680e+05  550068.000000   550068.000000       550068.000000   \n",
       "mean   1.003029e+06       8.076707        0.409653            5.404270   \n",
       "std    1.727592e+03       6.522660        0.491770            3.936211   \n",
       "min    1.000001e+06       0.000000        0.000000            1.000000   \n",
       "25%    1.001516e+06       2.000000        0.000000            1.000000   \n",
       "50%    1.003077e+06       7.000000        0.000000            5.000000   \n",
       "75%    1.004478e+06      14.000000        1.000000            8.000000   \n",
       "max    1.006040e+06      20.000000        1.000000           20.000000   \n",
       "\n",
       "       Product_Category_2  Product_Category_3       Purchase  \n",
       "count       376430.000000       166821.000000  550068.000000  \n",
       "mean             9.842329           12.668243    9263.968713  \n",
       "std              5.086590            4.125338    5023.065394  \n",
       "min              2.000000            3.000000      12.000000  \n",
       "25%              5.000000            9.000000    5823.000000  \n",
       "50%              9.000000           14.000000    8047.000000  \n",
       "75%             15.000000           16.000000   12054.000000  \n",
       "max             18.000000           18.000000   23961.000000  "
      ]
     },
     "execution_count": 9,
     "metadata": {},
     "output_type": "execute_result"
    }
   ],
   "source": [
    "# Statistical summary\n",
    "train.describe()"
   ]
  },
  {
   "cell_type": "markdown",
   "id": "5152e130",
   "metadata": {},
   "source": [
    "### checking the measure of central tendency"
   ]
  },
  {
   "cell_type": "code",
   "execution_count": null,
   "id": "f4647483",
   "metadata": {},
   "outputs": [],
   "source": [
    "print(\"mean:\\n\",   train.mean())\n",
    "print(\"\\nmedian:\\n\",   train.median())\n",
    "print(\"\\nmode:\\n\" ,   train.mode())"
   ]
  },
  {
   "cell_type": "markdown",
   "id": "c33a07a5",
   "metadata": {},
   "source": [
    "### Checking measure of central dispersion"
   ]
  },
  {
   "cell_type": "code",
   "execution_count": null,
   "id": "c33a711e",
   "metadata": {},
   "outputs": [],
   "source": [
    "print(\"Range:\\n\",  train.max()-train.min())\n",
    "\n",
    "print(\"\\nVariance:\\n\", train.var())\n",
    "\n",
    "print(\"\\nstandard deviation:\\n\",  train.std())"
   ]
  },
  {
   "cell_type": "markdown",
   "id": "ef0fc605",
   "metadata": {},
   "source": [
    "### checking the skewwness and kurtosis  "
   ]
  },
  {
   "cell_type": "code",
   "execution_count": null,
   "id": "7beba130",
   "metadata": {},
   "outputs": [],
   "source": [
    "print(\"Skewness:\\n\", train.skew())\n",
    "print(\"\\nkurtosis:\\n\", train.kurtosis())"
   ]
  },
  {
   "cell_type": "markdown",
   "id": "de8efdb6",
   "metadata": {},
   "source": [
    "### checking missing values"
   ]
  },
  {
   "cell_type": "code",
   "execution_count": null,
   "id": "c28b026a",
   "metadata": {},
   "outputs": [],
   "source": [
    "train.isnull().sum()/train.shape[0]*100"
   ]
  },
  {
   "cell_type": "code",
   "execution_count": null,
   "id": "b614ab58",
   "metadata": {},
   "outputs": [],
   "source": [
    "sns.heatmap(train.isnull())"
   ]
  },
  {
   "cell_type": "markdown",
   "id": "0bf38722",
   "metadata": {},
   "source": [
    "Here we can see that there are 2 features which contain the missing values i.e Product_Category_2 and Product_Category_3."
   ]
  },
  {
   "cell_type": "markdown",
   "id": "7154d278",
   "metadata": {},
   "source": [
    "### checking for unique values"
   ]
  },
  {
   "cell_type": "code",
   "execution_count": null,
   "id": "ed124c47",
   "metadata": {},
   "outputs": [],
   "source": [
    "train.nunique()"
   ]
  },
  {
   "cell_type": "markdown",
   "id": "95f4f962",
   "metadata": {},
   "source": [
    "### EDA "
   ]
  },
  {
   "cell_type": "markdown",
   "id": "59393a51",
   "metadata": {},
   "source": [
    "#### univarite analysis "
   ]
  },
  {
   "cell_type": "code",
   "execution_count": null,
   "id": "eb2088e1",
   "metadata": {},
   "outputs": [],
   "source": [
    "# Creating box plot for each variable\n",
    "\n",
    "train.plot(kind=\"box\", subplots=True, layout=(3,3), figsize=(10,10))\n",
    "plt.show()"
   ]
  },
  {
   "cell_type": "code",
   "execution_count": null,
   "id": "0cc70949",
   "metadata": {},
   "outputs": [],
   "source": [
    "# Creating scatter plot matrix\n",
    "\n",
    "pd.plotting.scatter_matrix(train, figsize=(10,10))\n",
    "plt.show()"
   ]
  },
  {
   "cell_type": "code",
   "execution_count": null,
   "id": "1c7cd261",
   "metadata": {},
   "outputs": [],
   "source": [
    "# distplot for dependent feature purchase\n",
    "\n",
    "sns.distplot(train[\"Purchase\"],color='green')\n",
    "plt.title(\"Purchase Distribution\")\n",
    "plt.xlabel('Purchase amount')\n",
    "plt.ylabel('Number of people')\n",
    "plt.show()"
   ]
  },
  {
   "cell_type": "markdown",
   "id": "ac64259e",
   "metadata": {},
   "source": [
    "We can observe that purchase amount is repeating for many customers.This may be because on Black Friday many are buying discounted products in large numbers and follows a Gaussian Distribution"
   ]
  },
  {
   "cell_type": "code",
   "execution_count": null,
   "id": "d695e473",
   "metadata": {},
   "outputs": [],
   "source": [
    "train[\"Purchase\"].skew()"
   ]
  },
  {
   "cell_type": "markdown",
   "id": "90cb4793",
   "metadata": {},
   "source": [
    "The purchase is right skewed and we can do a log transformation for the purchase."
   ]
  },
  {
   "cell_type": "code",
   "execution_count": null,
   "id": "eb7b57d6",
   "metadata": {
    "scrolled": true
   },
   "outputs": [],
   "source": [
    "# Creating a countplot for gender\n",
    "\n",
    "sns.countplot(train.Gender)\n",
    "plt.title('Distribution of Gender')\n",
    "plt.xlabel('Gender')\n",
    "plt.ylabel('Number of people')\n",
    "plt.show()"
   ]
  },
  {
   "cell_type": "markdown",
   "id": "b9a4617e",
   "metadata": {},
   "source": [
    "The graph shows that there are almost 3 times more male customers than female customers."
   ]
  },
  {
   "cell_type": "code",
   "execution_count": null,
   "id": "bfdaaa36",
   "metadata": {},
   "outputs": [],
   "source": [
    "train['Gender'].value_counts(normalize=True)*100"
   ]
  },
  {
   "cell_type": "markdown",
   "id": "b2753982",
   "metadata": {},
   "source": [
    "On average the male gender spends more money on purchase compare to female"
   ]
  },
  {
   "cell_type": "code",
   "execution_count": null,
   "id": "6e3e2a9a",
   "metadata": {},
   "outputs": [],
   "source": [
    "# Creating a countplot for Marital Status\n",
    "\n",
    "sns.countplot(train['Marital_Status'])\n",
    "plt.title('Marital Status Distribution')\n",
    "plt.xlabel('Marital Status')\n",
    "plt.ylabel('Number of people')\n",
    "plt.show()"
   ]
  },
  {
   "cell_type": "markdown",
   "id": "daef7e90",
   "metadata": {},
   "source": [
    "There are more unmarried people in the dataset who purchase more"
   ]
  },
  {
   "cell_type": "code",
   "execution_count": null,
   "id": "eb315787",
   "metadata": {},
   "outputs": [],
   "source": [
    "# creating a countplot for occupation\n",
    "\n",
    "plt.figure(figsize=(18,5))\n",
    "sns.countplot(train['Occupation'])\n",
    "plt.title('Occupation wise Distribution')\n",
    "plt.xlabel('Occupation code')\n",
    "plt.ylabel('Number of people')\n",
    "plt.show()"
   ]
  },
  {
   "cell_type": "markdown",
   "id": "d2f5b738",
   "metadata": {},
   "source": [
    "Occupation has at least 20 different values and it shows that top three Occupations with the majority of buyers is 4,0,7."
   ]
  },
  {
   "cell_type": "code",
   "execution_count": null,
   "id": "1d0235cd",
   "metadata": {},
   "outputs": [],
   "source": [
    "# creating a  for city category\n",
    "\n",
    "\n",
    "sns.countplot(train['City_Category'])\n",
    "plt.title('city category distribution')\n",
    "plt.xlabel('city')\n",
    "plt.ylabel('number of people')\n",
    "plt.show()"
   ]
  },
  {
   "cell_type": "markdown",
   "id": "75f25081",
   "metadata": {},
   "source": [
    "It is observed that city category B has made the most number of puchases."
   ]
  },
  {
   "cell_type": "code",
   "execution_count": null,
   "id": "fe94969f",
   "metadata": {},
   "outputs": [],
   "source": [
    "# creating a countplot for age\n",
    "\n",
    "sns.countplot(train['Age'])\n",
    "plt.title('Distribution of Age')\n",
    "plt.xlabel('Different Categories of Age')\n",
    "plt.show()"
   ]
  },
  {
   "cell_type": "markdown",
   "id": "7143399d",
   "metadata": {},
   "source": [
    "The graph shows that the majority of the customers that purchase things during the sales season mainly belong to the age group of 26-35 and 36-45"
   ]
  },
  {
   "cell_type": "markdown",
   "id": "150f5ac9",
   "metadata": {},
   "source": [
    "### purchase variable vs other variable"
   ]
  },
  {
   "cell_type": "markdown",
   "id": "8cfd6e63",
   "metadata": {},
   "source": [
    "#### bivirate analysis "
   ]
  },
  {
   "cell_type": "code",
   "execution_count": null,
   "id": "a438eefb",
   "metadata": {
    "scrolled": true
   },
   "outputs": [],
   "source": [
    "# creating a barplot of occupation vs purchase\n",
    "\n",
    "plt.figure(figsize = (20, 7))\n",
    "sns.barplot(train['Occupation'], train['Purchase'], palette = 'Paired')\n",
    "plt.title('Purchase amount across Occupation')\n",
    "plt.xlabel('Occupation code')\n",
    "plt.ylabel('Purchase amount')"
   ]
  },
  {
   "cell_type": "code",
   "execution_count": null,
   "id": "3a420816",
   "metadata": {
    "scrolled": true
   },
   "outputs": [],
   "source": [
    "# creating a barplot of age vs purchase\n",
    "\n",
    "sns.barplot(train['Age'], train['Purchase'], palette = 'Paired')\n",
    "plt.title('Purchase amount across Age')\n",
    "plt.xlabel('Age')\n",
    "plt.ylabel('Purchase amount')"
   ]
  },
  {
   "cell_type": "markdown",
   "id": "6ebf0b4f",
   "metadata": {},
   "source": [
    "The average amount spend by age group 51-55 is most during the festive season sales."
   ]
  },
  {
   "cell_type": "code",
   "execution_count": null,
   "id": "e064479e",
   "metadata": {
    "scrolled": true
   },
   "outputs": [],
   "source": [
    "# creating a barplot of gender vs purchase\n",
    "\n",
    "sns.barplot(train['Gender'], train['Purchase'], palette = 'Paired')\n",
    "plt.title('Purchase amount across Gender')\n",
    "plt.xlabel('Gender')\n",
    "plt.ylabel('Purchase amount')"
   ]
  },
  {
   "cell_type": "code",
   "execution_count": null,
   "id": "3bb75f77",
   "metadata": {
    "scrolled": true
   },
   "outputs": [],
   "source": [
    "# creating a barplot of City_Category vs purchase\n",
    "\n",
    "sns.barplot(train['City_Category'], train['Purchase'], palette = 'Paired')\n",
    "plt.title('Purchase amount across City_Category')\n",
    "plt.xlabel('City_Category')\n",
    "plt.ylabel('Purchase amount')"
   ]
  },
  {
   "cell_type": "code",
   "execution_count": null,
   "id": "16975bc7",
   "metadata": {
    "scrolled": true
   },
   "outputs": [],
   "source": [
    "# creating a barplot of product category1 vs purchase\n",
    "\n",
    "plt.figure(figsize = (12, 7))\n",
    "sns.barplot(train['Product_Category_1'], train['Purchase'], palette = 'Paired')\n",
    "plt.title('Purchase amount across Product_Category_1')\n",
    "plt.xlabel('Product_Category_1')\n",
    "plt.ylabel('Purchase amount')"
   ]
  },
  {
   "cell_type": "code",
   "execution_count": null,
   "id": "4d1a41fc",
   "metadata": {},
   "outputs": [],
   "source": [
    "# creating a barplot of Marital Status vs purchase\n",
    "\n",
    "sns.barplot(train['Marital_Status'], train['Purchase'])\n",
    "plt.title('Purchase amount across Marital Status')\n",
    "plt.xlabel('Marital Status')\n",
    "plt.ylabel('Purchase amount')"
   ]
  },
  {
   "cell_type": "markdown",
   "id": "e36551af",
   "metadata": {},
   "source": [
    "Purchasers who married or not, have almost same average of purchase."
   ]
  },
  {
   "cell_type": "markdown",
   "id": "711175fd",
   "metadata": {},
   "source": [
    "#### multivariate analysis "
   ]
  },
  {
   "cell_type": "code",
   "execution_count": null,
   "id": "2d0f27e9",
   "metadata": {},
   "outputs": [],
   "source": [
    "# Creating a Pairplot for all features\n",
    "plt.style.use('default')\n",
    "sns.pairplot(train)\n",
    "plt.show()"
   ]
  },
  {
   "cell_type": "code",
   "execution_count": null,
   "id": "3ae0919d",
   "metadata": {},
   "outputs": [],
   "source": [
    "# heatmap of correlation matrix to check whether the feature s are correleated with each other\n",
    "\n",
    "sns.heatmap(train.corr(), annot = True)\n",
    "plt.show()"
   ]
  },
  {
   "cell_type": "code",
   "execution_count": null,
   "id": "5a510d18",
   "metadata": {},
   "outputs": [],
   "source": [
    "# convert 4+ to 4 which is in stay in current city years variable\n",
    "\n",
    "train['Stay_In_Current_City_Years']=train['Stay_In_Current_City_Years'].replace('4+',4)\n",
    "test['Stay_In_Current_City_Years']=test['Stay_In_Current_City_Years'].replace('4+',4)"
   ]
  },
  {
   "cell_type": "markdown",
   "id": "20e988e3",
   "metadata": {},
   "source": [
    "### Merging train and test "
   ]
  },
  {
   "cell_type": "code",
   "execution_count": null,
   "id": "19402a0a",
   "metadata": {},
   "outputs": [],
   "source": [
    "train['source'] = 'train'\n",
    "test['source'] = 'test'"
   ]
  },
  {
   "cell_type": "code",
   "execution_count": null,
   "id": "26e6d4cc",
   "metadata": {},
   "outputs": [],
   "source": [
    "data = pd.concat([train, test])"
   ]
  },
  {
   "cell_type": "code",
   "execution_count": null,
   "id": "ce628908",
   "metadata": {},
   "outputs": [],
   "source": [
    "data.info()"
   ]
  },
  {
   "cell_type": "markdown",
   "id": "d049e54a",
   "metadata": {},
   "source": [
    "The feature Product_Category_3 has 70% data missing so imputing this much data is not feasible , so it is better to drop this feature\n"
   ]
  },
  {
   "cell_type": "code",
   "execution_count": null,
   "id": "599a02be",
   "metadata": {},
   "outputs": [],
   "source": [
    "data.drop('Product_Category_3', axis = 1, inplace = True)"
   ]
  },
  {
   "cell_type": "code",
   "execution_count": null,
   "id": "585af117",
   "metadata": {},
   "outputs": [],
   "source": []
  },
  {
   "cell_type": "markdown",
   "id": "972e5085",
   "metadata": {},
   "source": [
    "### Dropping irrelevant features"
   ]
  },
  {
   "cell_type": "code",
   "execution_count": null,
   "id": "24264df9",
   "metadata": {
    "scrolled": true
   },
   "outputs": [],
   "source": [
    "#dropping product id and user id feature because it does not affet the purchase\n",
    "\n",
    "data.drop('User_ID', axis = 1, inplace = True)\n",
    "\n",
    "data.drop('Product_ID', axis = 1, inplace = True)\n"
   ]
  },
  {
   "cell_type": "code",
   "execution_count": null,
   "id": "62a3287b",
   "metadata": {
    "scrolled": true
   },
   "outputs": [],
   "source": [
    "data.head()"
   ]
  },
  {
   "cell_type": "markdown",
   "id": "0848911e",
   "metadata": {},
   "source": [
    "### Convert categorical data into numerical "
   ]
  },
  {
   "cell_type": "markdown",
   "id": "b24ec736",
   "metadata": {},
   "source": [
    "Gender 'F' for female are represented by the value fo 0\n",
    "\n",
    "\n",
    "Gender 'M' for male are represented by the value fo 1"
   ]
  },
  {
   "cell_type": "code",
   "execution_count": null,
   "id": "6a4be12e",
   "metadata": {},
   "outputs": [],
   "source": [
    "data[\"Gender\"]=data[\"Gender\"].map({\"F\":0, \"M\":1})"
   ]
  },
  {
   "cell_type": "markdown",
   "id": "c8fa8b06",
   "metadata": {},
   "source": [
    "city_category \"A\" is represented by 0 \"B\" by 1 and \"C\" by 2"
   ]
  },
  {
   "cell_type": "code",
   "execution_count": null,
   "id": "7ff2625d",
   "metadata": {},
   "outputs": [],
   "source": [
    "data[\"City_Category\"]=data[\"City_Category\"].map({\"A\":0, \"B\":1,\"C\":2})"
   ]
  },
  {
   "cell_type": "code",
   "execution_count": null,
   "id": "133aae2f",
   "metadata": {},
   "outputs": [],
   "source": [
    "# convert range of age column into integer\n",
    "\n",
    "data['Age'] = data['Age'].map({'0-17': 9,\n",
    "                               '18-25': 22,\n",
    "                               '26-35': 31,\n",
    "                               '36-45': 42,\n",
    "                               '46-50': 48,\n",
    "                               '51-55': 53,\n",
    "                               '55+': 60})"
   ]
  },
  {
   "cell_type": "code",
   "execution_count": null,
   "id": "60003a81",
   "metadata": {},
   "outputs": [],
   "source": []
  },
  {
   "cell_type": "code",
   "execution_count": null,
   "id": "e7495653",
   "metadata": {},
   "outputs": [],
   "source": [
    "data.head()"
   ]
  },
  {
   "cell_type": "markdown",
   "id": "74ae44bd",
   "metadata": {},
   "source": [
    "### Handling Missing values"
   ]
  },
  {
   "cell_type": "code",
   "execution_count": null,
   "id": "16d4c6e0",
   "metadata": {
    "scrolled": true
   },
   "outputs": [],
   "source": [
    "# handle missing values with median\n",
    "\n",
    "data['Product_Category_2'].fillna(data['Product_Category_2'].median(), inplace = True)"
   ]
  },
  {
   "cell_type": "code",
   "execution_count": null,
   "id": "77103496",
   "metadata": {},
   "outputs": [],
   "source": [
    "data.isna().sum()"
   ]
  },
  {
   "cell_type": "markdown",
   "id": "3e8061d7",
   "metadata": {},
   "source": [
    "There are no null values left in the data set.The purchase null values are because of the test data that needs to be predicted"
   ]
  },
  {
   "cell_type": "markdown",
   "id": "50ed4223",
   "metadata": {},
   "source": [
    "### Que.2) Building a model that can predict how much a customer is likely to spend on a given product."
   ]
  },
  {
   "cell_type": "markdown",
   "id": "57aa9b50",
   "metadata": {},
   "source": [
    "### Separating dataset into train and test"
   ]
  },
  {
   "cell_type": "code",
   "execution_count": null,
   "id": "954232ab",
   "metadata": {
    "scrolled": true
   },
   "outputs": [],
   "source": [
    "train = data.loc[data['source'] == 'train']\n",
    "test = data.loc[data['source'] == 'test']"
   ]
  },
  {
   "cell_type": "code",
   "execution_count": null,
   "id": "cfd80ee0",
   "metadata": {},
   "outputs": [],
   "source": [
    "train.drop('source', axis = 1, inplace = True)\n",
    "test.drop('source', axis = 1, inplace = True)"
   ]
  },
  {
   "cell_type": "code",
   "execution_count": null,
   "id": "0e65e9d0",
   "metadata": {},
   "outputs": [],
   "source": [
    "#separating train into X and Y\n",
    "\n",
    "x = train.drop(\"Purchase\", axis = 1)\n",
    "y= train[\"Purchase\"]"
   ]
  },
  {
   "cell_type": "markdown",
   "id": "c947a8f8",
   "metadata": {},
   "source": [
    "### creating a train test split"
   ]
  },
  {
   "cell_type": "code",
   "execution_count": null,
   "id": "771c6d76",
   "metadata": {},
   "outputs": [],
   "source": [
    "from sklearn.model_selection import train_test_split\n",
    "x_train, x_test, y_train, y_test = train_test_split(x, y, test_size = 0.2, random_state = 35)"
   ]
  },
  {
   "cell_type": "code",
   "execution_count": null,
   "id": "23bf99fb",
   "metadata": {},
   "outputs": [],
   "source": [
    "print(\"x_train shape:\", x_train.shape)\n",
    "print(\"x_test shape:\", x_test.shape)\n",
    "print(\"y_train shape:\", y_train.shape)\n",
    "print(\"y_test shape:\", y_test.shape)"
   ]
  },
  {
   "cell_type": "markdown",
   "id": "62b9f907",
   "metadata": {},
   "source": [
    "### Building model and Evaluation"
   ]
  },
  {
   "cell_type": "code",
   "execution_count": null,
   "id": "09479f3a",
   "metadata": {},
   "outputs": [],
   "source": [
    "from sklearn.linear_model import LinearRegression\n",
    "from sklearn.neighbors import KNeighborsRegressor\n",
    "from sklearn.tree import DecisionTreeRegressor\n",
    "from sklearn.ensemble import RandomForestRegressor\n",
    "from sklearn.ensemble import AdaBoostRegressor\n",
    "\n",
    "from sklearn.metrics import mean_squared_error\n",
    "from sklearn.metrics import r2_score\n",
    "from sklearn.model_selection import RandomizedSearchCV"
   ]
  },
  {
   "cell_type": "markdown",
   "id": "3919d74c",
   "metadata": {},
   "source": [
    "#### Linear Regression "
   ]
  },
  {
   "cell_type": "code",
   "execution_count": null,
   "id": "266936da",
   "metadata": {
    "scrolled": true
   },
   "outputs": [],
   "source": [
    "lin_reg = LinearRegression()\n",
    "lin_reg.fit(x_train, y_train)\n",
    "y_pred_lin_reg = lin_reg.predict(x_test)\n",
    "\n",
    "print(\"RMSE:\",np.sqrt(mean_squared_error(y_test, y_pred_lin_reg)))\n",
    "print(\"R2 score:\", r2_score(y_test, y_pred_lin_reg))"
   ]
  },
  {
   "cell_type": "code",
   "execution_count": null,
   "id": "467d4f11",
   "metadata": {},
   "outputs": [],
   "source": []
  },
  {
   "cell_type": "markdown",
   "id": "cb906f49",
   "metadata": {},
   "source": [
    "#### KNN "
   ]
  },
  {
   "cell_type": "code",
   "execution_count": null,
   "id": "f34cc53d",
   "metadata": {},
   "outputs": [],
   "source": [
    "knn = KNeighborsRegressor()\n",
    "knn.fit(x_train, y_train)\n",
    "y_pred_knn = knn.predict(x_test)\n",
    "\n",
    "print(\"RMSE:\",np.sqrt(mean_squared_error(y_test, y_pred_knn)))\n",
    "print(\"R2 score:\", r2_score(y_test, y_pred_knn))"
   ]
  },
  {
   "cell_type": "code",
   "execution_count": null,
   "id": "7555de87",
   "metadata": {},
   "outputs": [],
   "source": []
  },
  {
   "cell_type": "markdown",
   "id": "1835ca6c",
   "metadata": {},
   "source": [
    "#### Decision Tree "
   ]
  },
  {
   "cell_type": "code",
   "execution_count": null,
   "id": "93adfa33",
   "metadata": {},
   "outputs": [],
   "source": [
    "dec_tree = DecisionTreeRegressor()\n",
    "dec_tree.fit(x_train, y_train)\n",
    "y_pred_dec = dec_tree.predict(x_test)\n",
    "\n",
    "print(\"RMSE:\",np.sqrt(mean_squared_error(y_test, y_pred_dec)))\n",
    "print(\"R2 score:\", r2_score(y_test, y_pred_dec))"
   ]
  },
  {
   "cell_type": "code",
   "execution_count": null,
   "id": "b2ccfbaa",
   "metadata": {},
   "outputs": [],
   "source": []
  },
  {
   "cell_type": "markdown",
   "id": "41f3173d",
   "metadata": {},
   "source": [
    "#### Random Forest "
   ]
  },
  {
   "cell_type": "code",
   "execution_count": null,
   "id": "82e9a5a9",
   "metadata": {},
   "outputs": [],
   "source": [
    "ran_for = RandomForestRegressor()\n",
    "ran_for.fit(x_train, y_train)\n",
    "y_pred_ran_for = ran_for.predict(x_test)\n",
    "\n",
    "print(\"RMSE:\",np.sqrt(mean_squared_error(y_test, y_pred_ran_for)))\n",
    "print(\"R2 score:\", r2_score(y_test, y_pred_ran_for))"
   ]
  },
  {
   "cell_type": "markdown",
   "id": "ec57c7c4",
   "metadata": {},
   "source": [
    "####  ADABOOST"
   ]
  },
  {
   "cell_type": "code",
   "execution_count": null,
   "id": "2f54a1d9",
   "metadata": {},
   "outputs": [],
   "source": [
    "adab= AdaBoostRegressor()\n",
    "adab.fit(x_train, y_train)\n",
    "y_pred_adab= adab.predict(x_test)\n",
    "\n",
    "print(\"RMSE:\",np.sqrt(mean_squared_error(y_test, y_pred_adab)))\n",
    "print(\"R2 score:\", r2_score(y_test, y_pred_adab))"
   ]
  },
  {
   "cell_type": "markdown",
   "id": "88233c7d",
   "metadata": {},
   "source": [
    "### hyperparameter tuning "
   ]
  },
  {
   "cell_type": "code",
   "execution_count": null,
   "id": "7a6730b0",
   "metadata": {},
   "outputs": [],
   "source": [
    "grid =  {\"n_estimators\": [10,50,100],\n",
    "       \"max_depth\": [None,10,20,30,40,50,],\n",
    "       \"max_features\": [\"auto\", \"sqrt\"],\n",
    "       \"min_samples_leaf\": [2,10,15],\n",
    "       \"min_samples_split\": [2,5,20]}"
   ]
  },
  {
   "cell_type": "code",
   "execution_count": null,
   "id": "2803d9e6",
   "metadata": {},
   "outputs": [],
   "source": [
    "#randomsearchCV = RandomizedSearchCV(ran_for, param_distributions = grid, n_iter = 5, cv=5,  verbose = True, n_jobs=-1)"
   ]
  },
  {
   "cell_type": "code",
   "execution_count": null,
   "id": "e282b0fc",
   "metadata": {
    "scrolled": true
   },
   "outputs": [],
   "source": [
    "#randomsearchCV.fit(x_train, y_train)"
   ]
  },
  {
   "cell_type": "code",
   "execution_count": null,
   "id": "4515500a",
   "metadata": {},
   "outputs": [],
   "source": [
    "#randomsearchCV.best_params_"
   ]
  },
  {
   "cell_type": "markdown",
   "id": "04aef4e8",
   "metadata": {},
   "source": [
    "fitting the best parameter"
   ]
  },
  {
   "cell_type": "code",
   "execution_count": null,
   "id": "f458d9b9",
   "metadata": {},
   "outputs": [],
   "source": [
    "#rf_regressor_tune = RandomForestRegressor(n_estimators=, max_depth = , max_features = , min_samples_leaf =,min_samples_split=)\n",
    "#rf_regressor_tune.fit(x_train, y_train) \n",
    "#r2_rf_tune, rmse_rf_tune=pred(rf_regressor_tune,x_test,y_test)\n"
   ]
  },
  {
   "cell_type": "markdown",
   "id": "d2f9a37c",
   "metadata": {},
   "source": [
    "### Conclusion "
   ]
  },
  {
   "cell_type": "markdown",
   "id": "9d7bf1a0",
   "metadata": {},
   "source": [
    "It seems that among all the five models, Random Forest Regressor has highest R^2_score and lowest Root Mean Squared Error.\n",
    "\n",
    "Thus Random Forest Regressor is performs best."
   ]
  },
  {
   "cell_type": "markdown",
   "id": "b66a7359",
   "metadata": {},
   "source": [
    " "
   ]
  },
  {
   "cell_type": "code",
   "execution_count": null,
   "id": "2b58416b",
   "metadata": {},
   "outputs": [],
   "source": []
  }
 ],
 "metadata": {
  "kernelspec": {
   "display_name": "Python 3 (ipykernel)",
   "language": "python",
   "name": "python3"
  },
  "language_info": {
   "codemirror_mode": {
    "name": "ipython",
    "version": 3
   },
   "file_extension": ".py",
   "mimetype": "text/x-python",
   "name": "python",
   "nbconvert_exporter": "python",
   "pygments_lexer": "ipython3",
   "version": "3.9.12"
  }
 },
 "nbformat": 4,
 "nbformat_minor": 5
}
